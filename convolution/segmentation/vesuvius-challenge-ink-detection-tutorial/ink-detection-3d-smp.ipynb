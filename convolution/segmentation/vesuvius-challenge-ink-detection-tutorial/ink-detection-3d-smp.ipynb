{
 "cells": [
  {
   "cell_type": "code",
   "execution_count": 1,
   "metadata": {},
   "outputs": [],
   "source": [
    "import numpy as np\n",
    "import torch\n",
    "import torch.nn as nn\n",
    "import torch.utils.data as data\n",
    "import torch.nn.functional as F\n",
    "import torch.optim as optim\n",
    "from functools import partial\n",
    "from torchsummary import summary\n",
    "from einops.layers.torch import Rearrange\n",
    "from torch.utils.tensorboard import SummaryWriter\n",
    "import albumentations as A\n",
    "from albumentations.pytorch import ToTensorV2\n",
    "import segmentation_models_pytorch as smp\n",
    "from segmentation_models_pytorch.decoders.unetplusplus.decoder import UnetPlusPlusDecoder\n",
    "from segmentation_models_pytorch.base import SegmentationHead\n",
    "from torch.cuda.amp import GradScaler\n",
    "from torchvision.utils import make_grid\n",
    "import warnings\n",
    "import os\n",
    "import random\n",
    "import pandas as pd\n",
    "import cv2\n",
    "from tqdm import tqdm\n",
    "import matplotlib.pyplot as plt\n",
    "# 忽略所有警告\n",
    "warnings.filterwarnings('ignore')\n",
    "\n",
    "class CFG:\n",
    "    device = torch.device('cuda') if torch.cuda.is_available() else torch.device('cpu')\n",
    "\n",
    "    checpoint = ''\n",
    "    # ============== comp exp name =============\n",
    "    comp_name = 'vesuvius'\n",
    "\n",
    "    # # comp_dir_path = './'\n",
    "    # comp_dir_path = '/kaggle/input/'\n",
    "    # comp_folder_name = 'vesuvius-challenge-ink-detection'\n",
    "    # # comp_dataset_path = f'{comp_dir_path}datasets/{comp_folder_name}/'\n",
    "    # comp_dataset_path = f'{comp_dir_path}{comp_folder_name}/'\n",
    "        # comp_dir_path = './'\n",
    "    comp_dir_path = ''\n",
    "    comp_folder_name = 'data'\n",
    "    # comp_dataset_path = f'{comp_dir_path}datasets/{comp_folder_name}/'\n",
    "    comp_dataset_path = f'{comp_dir_path}{comp_folder_name}/'\n",
    "\n",
    "    img_path = 'working/'\n",
    "    \n",
    "    exp_name = 'Resnet3D'\n",
    "\n",
    "    # ============== pred target =============\n",
    "    target_size = 1\n",
    "\n",
    "    # ============== model cfg =============\n",
    "    model_name = 'Resnet3D'\n",
    "\n",
    "    # in_idx = [i for i in range(12, 25)]\n",
    "    # up = [i for i in range(28, 37)]\n",
    "\n",
    "    # in_idx.extend(up)\n",
    "    in_idx = [i for i in range(21, 43)]\n",
    "\n",
    "    backbone = 'Resnet3D'\n",
    "\n",
    "    valid_id = 3\n",
    "\n",
    "\n",
    "    in_chans =  len(in_idx)# 65\n",
    "    # ============== training cfg =============\n",
    "    size = 224\n",
    "\n",
    "    train_tile_size_1 = 224\n",
    "    train_stride_1 = train_tile_size_1 // 4\n",
    "\n",
    "    train_tile_size_2 = 224\n",
    "    train_stride_2 = train_tile_size_2 // 2\n",
    "\n",
    "    train_tile_size_3 = 224\n",
    "    train_stride_3= train_tile_size_3 // 4\n",
    "\n",
    "    valid_tile_size = 224\n",
    "    valid_stride = valid_tile_size // 2\n",
    "\n",
    "    train_batch_size = 8 # 32\n",
    "    valid_batch_size = 8\n",
    "    use_amp = True\n",
    "\n",
    "    inplanes = [64, 128, 256, 512]\n",
    "\n",
    "    epochs = 30 # 30\n",
    "\n",
    "    # lr = 1e-4 / warmup_factor\n",
    "    lr = 5e-6\n",
    "\n",
    "    # ============== fixed =============\n",
    "    pretrained = False\n",
    "\n",
    "    min_lr = 1e-6\n",
    "    weight_decay = 1e-4\n",
    "    max_grad_norm = 1000\n",
    "\n",
    "    num_workers = 4\n",
    "\n",
    "    seed = 42\n",
    "\n",
    "    threshhold = 0.5\n",
    "\n",
    "    all_best_dice = 0\n",
    "    all_best_loss = np.float('inf')\n",
    "\n",
    "    shape_list = []\n",
    "    test_shape_list = []\n",
    "\n",
    "    val_mask = None\n",
    "    val_label = None\n",
    "\n",
    "    # ============== augmentation =============\n",
    "    train_aug_list = [\n",
    "        # A.RandomCrop(height=size, width=size, p=0.5),\n",
    "        A.Resize(size, size),\n",
    "        A.Rotate(limit=90,  p=0.5),\n",
    "        A.HorizontalFlip(p=0.5),\n",
    "        A.VerticalFlip(p=0.5),\n",
    "        A.RandomBrightnessContrast(p=0.75),\n",
    "        A.ShiftScaleRotate(p=0.75),\n",
    "        A.OneOf([\n",
    "                A.GaussNoise(var_limit=[10, 50]),\n",
    "                A.GaussianBlur(),\n",
    "                A.MotionBlur(),\n",
    "                ], p=0.4),\n",
    "        A.GridDistortion(num_steps=5, distort_limit=0.3, p=0.5),\n",
    "        A.CoarseDropout(max_holes=1, max_width=int(size * 0.3), max_height=int(size * 0.3), \n",
    "                        mask_fill_value=0, p=0.5),\n",
    "        # A.ChannelShuffle(p=0.5),\n",
    "        # A.Cutout(max_h_size=int(size * 0.6),\n",
    "        #          max_w_size=int(size * 0.6), num_holes=1, p=1.0),\n",
    "        A.Normalize(\n",
    "            mean= [0] * in_chans,\n",
    "            std= [1] * in_chans\n",
    "        ),\n",
    "        ToTensorV2(transpose_mask=True),\n",
    "    ]\n",
    "\n",
    "    valid_aug_list = [\n",
    "        A.Resize(size, size),\n",
    "        A.Normalize(\n",
    "            mean= [0] * in_chans,\n",
    "            std= [1] * in_chans\n",
    "        ),\n",
    "        ToTensorV2(transpose_mask=True),\n",
    "    ]\n",
    "    test_aug_list = [\n",
    "        A.Normalize(\n",
    "            mean= [0] * in_chans,\n",
    "            std= [1] * in_chans\n",
    "        ),\n",
    "        ToTensorV2(transpose_mask=True),\n",
    "    ]\n",
    "seed = CFG.seed\n",
    "os.environ['PYTHONHASHSEED'] = str(seed)\n",
    "np.random.seed(seed)\n",
    "random.seed(seed)\n",
    "torch.manual_seed(seed)\n",
    "torch.cuda.manual_seed(seed)\n",
    "torch.backends.cudnn.deterministic = True\n",
    "torch.backends.cudnn.benchmark = False"
   ]
  },
  {
   "cell_type": "code",
   "execution_count": 2,
   "metadata": {},
   "outputs": [],
   "source": [
    "def get_inplanes():\n",
    "    return CFG.inplanes\n",
    "\n",
    "\n",
    "def conv3x3x3(in_planes, out_planes, stride=1):\n",
    "    return nn.Conv3d(in_planes,\n",
    "                     out_planes,\n",
    "                     kernel_size=3,\n",
    "                     stride=stride,\n",
    "                     padding=1,\n",
    "                     bias=False)\n",
    "\n",
    "\n",
    "def conv1x1x1(in_planes, out_planes, stride=1):\n",
    "    return nn.Conv3d(in_planes,\n",
    "                     out_planes,\n",
    "                     kernel_size=1,\n",
    "                     stride=stride,\n",
    "                     bias=False)\n",
    "\n",
    "\n",
    "class BasicBlock(nn.Module):\n",
    "    expansion = 1\n",
    "\n",
    "    def __init__(self, in_planes, planes, stride=1, downsample=None):\n",
    "        super().__init__()\n",
    "\n",
    "        self.conv1 = conv3x3x3(in_planes, planes, stride)\n",
    "        self.bn1 = nn.BatchNorm3d(planes)\n",
    "        self.relu = nn.ReLU(inplace=True)\n",
    "        self.conv2 = conv3x3x3(planes, planes)\n",
    "        self.bn2 = nn.BatchNorm3d(planes)\n",
    "        self.downsample = downsample\n",
    "        self.stride = stride\n",
    "\n",
    "    def forward(self, x):\n",
    "        residual = x\n",
    "\n",
    "        out = self.conv1(x)\n",
    "        out = self.bn1(out)\n",
    "        out = self.relu(out)\n",
    "\n",
    "        out = self.conv2(out)\n",
    "        out = self.bn2(out)\n",
    "\n",
    "        if self.downsample is not None:\n",
    "            residual = self.downsample(x)\n",
    "\n",
    "        out += residual\n",
    "        out = self.relu(out)\n",
    "\n",
    "        return out\n",
    "\n",
    "\n",
    "class Bottleneck(nn.Module):\n",
    "    expansion = 4\n",
    "\n",
    "    def __init__(self, in_planes, planes, stride=1, downsample=None):\n",
    "        super().__init__()\n",
    "\n",
    "        self.conv1 = conv1x1x1(in_planes, planes)\n",
    "        self.bn1 = nn.BatchNorm3d(planes)\n",
    "        self.conv2 = conv3x3x3(planes, planes, stride)\n",
    "        self.bn2 = nn.BatchNorm3d(planes)\n",
    "        self.conv3 = conv1x1x1(planes, planes * self.expansion)\n",
    "        self.bn3 = nn.BatchNorm3d(planes * self.expansion)\n",
    "        self.relu = nn.ReLU(inplace=True)\n",
    "        self.downsample = downsample\n",
    "        self.stride = stride\n",
    "\n",
    "    def forward(self, x):\n",
    "        residual = x\n",
    "\n",
    "        out = self.conv1(x)\n",
    "        out = self.bn1(out)\n",
    "        out = self.relu(out)\n",
    "\n",
    "        out = self.conv2(out)\n",
    "        out = self.bn2(out)\n",
    "        out = self.relu(out)\n",
    "\n",
    "        out = self.conv3(out)\n",
    "        out = self.bn3(out)\n",
    "\n",
    "        if self.downsample is not None:\n",
    "            residual = self.downsample(x)\n",
    "\n",
    "        out += residual\n",
    "        out = self.relu(out)\n",
    "\n",
    "        return out\n",
    "\n",
    "\n",
    "class ResNet(nn.Module):\n",
    "\n",
    "    def __init__(self,\n",
    "                 block,\n",
    "                 layers,\n",
    "                 block_inplanes,\n",
    "                 n_input_channels=3,\n",
    "                 conv1_t_size=7,\n",
    "                 conv1_t_stride=1,\n",
    "                 shortcut_type='B',\n",
    "                 widen_factor=1.0):\n",
    "        super().__init__()\n",
    "\n",
    "        block_inplanes = [int(x * widen_factor) for x in block_inplanes]\n",
    "\n",
    "        self.in_planes = block_inplanes[0]\n",
    "\n",
    "        self.output_stride = 4\n",
    "\n",
    "        self.conv1 = nn.Conv3d(n_input_channels,\n",
    "                               self.in_planes,\n",
    "                               kernel_size=(conv1_t_size, 7, 7),\n",
    "                               stride=(conv1_t_stride, 2, 2),\n",
    "                               padding=(conv1_t_size // 2, 3, 3),\n",
    "                               bias=False)\n",
    "        self.bn1 = nn.BatchNorm3d(self.in_planes)\n",
    "        self.relu = nn.ReLU(inplace=True)\n",
    "        self.maxpool = nn.MaxPool3d(kernel_size=(1, 3, 3), stride=(1, 2, 2), padding=(0, 1, 1))\n",
    "\n",
    "        \n",
    "\n",
    "        self.layer1 = self._make_layer(block,\n",
    "                                       block_inplanes[0],\n",
    "                                       layers[0],\n",
    "                                       shortcut_type,\n",
    "                                       stride=(1, 1, 1),\n",
    "                                       downsample=False)\n",
    "        self.layer2 = self._make_layer(block,\n",
    "                                       block_inplanes[1],\n",
    "                                       layers[1],\n",
    "                                       shortcut_type,\n",
    "                                       stride=(1, 2, 2),\n",
    "                                       downsample=True)\n",
    "        self.layer3 = self._make_layer(block,\n",
    "                                       block_inplanes[2],\n",
    "                                       layers[2],\n",
    "                                       shortcut_type,\n",
    "                                       stride=(1, 2, 2),\n",
    "                                       downsample=True)\n",
    "        self.layer4 = self._make_layer(block,\n",
    "                                       block_inplanes[3],\n",
    "                                       layers[3],\n",
    "                                       shortcut_type,\n",
    "                                       stride=(1, 2, 2),\n",
    "                                       downsample=True)\n",
    "        \n",
    "        self.avg_pool = nn.AvgPool3d(kernel_size=(CFG.in_chans, 1, 1), stride=1, padding=0)\n",
    "\n",
    "        for m in self.modules():\n",
    "            if isinstance(m, nn.Conv3d):\n",
    "                nn.init.kaiming_normal_(m.weight,\n",
    "                                        mode='fan_out',\n",
    "                                        nonlinearity='relu')\n",
    "            elif isinstance(m, nn.BatchNorm3d):\n",
    "                nn.init.constant_(m.weight, 1)\n",
    "                nn.init.constant_(m.bias, 0)\n",
    "\n",
    "    def _downsample_basic_block(self, x, planes, stride):\n",
    "        out = F.avg_pool3d(x, kernel_size=1, stride=stride)\n",
    "        zero_pads = torch.zeros(out.size(0), planes - out.size(1), out.size(2),\n",
    "                                out.size(3), out.size(4))\n",
    "        if isinstance(out.data, torch.cuda.FloatTensor):\n",
    "            zero_pads = zero_pads.cuda()\n",
    "\n",
    "        out = torch.cat([out.data, zero_pads], dim=1)\n",
    "\n",
    "        return out\n",
    "\n",
    "    def _make_layer(self, block, planes, blocks, shortcut_type, stride, downsample):\n",
    "        downsample_block = None\n",
    "        if downsample:\n",
    "            if shortcut_type == 'A':\n",
    "                downsample_block = partial(self._downsample_basic_block,\n",
    "                                     planes=planes * block.expansion,\n",
    "                                     stride=stride)\n",
    "            else:\n",
    "                downsample_block = nn.Sequential(\n",
    "                    conv1x1x1(self.in_planes, planes * block.expansion, stride),\n",
    "                    nn.BatchNorm3d(planes * block.expansion))\n",
    "\n",
    "        layers = []\n",
    "        layers.append(\n",
    "            block(in_planes=self.in_planes,\n",
    "                  planes=planes,\n",
    "                  stride=stride,\n",
    "                  downsample=downsample_block))\n",
    "        self.in_planes = planes * block.expansion\n",
    "        for i in range(1, blocks):\n",
    "            layers.append(block(self.in_planes, planes))\n",
    "\n",
    "        return nn.Sequential(*layers)\n",
    "\n",
    "    def forward(self, x):\n",
    "        x_org = x\n",
    "        x = self.conv1(x)\n",
    "        x = self.bn1(x)\n",
    "        x = self.relu(x)\n",
    "        x = self.maxpool(x)\n",
    "\n",
    "        x1 = self.layer1(x)\n",
    "        x2 = self.layer2(x1)\n",
    "        x3 = self.layer3(x2)\n",
    "        x4 = self.layer4(x3)\n",
    "\n",
    "        x1 = self.avg_pool(x1).squeeze(2)\n",
    "        x2 = self.avg_pool(x2).squeeze(2)\n",
    "        x3 = self.avg_pool(x3).squeeze(2)\n",
    "        x4 = self.avg_pool(x4).squeeze(2)\n",
    "\n",
    "        return [x_org[:, :, 0, :, :].squeeze(2) , x1, x2, x3, x4]\n",
    "\n",
    "\n",
    "def generate_model(model_depth, **kwargs):\n",
    "    assert model_depth in [10, 18, 34, 50, 101, 152, 200]\n",
    "\n",
    "    if model_depth == 10:\n",
    "        model = ResNet(BasicBlock, [1, 1, 1, 1], get_inplanes(), **kwargs)\n",
    "    elif model_depth == 18:\n",
    "        model = ResNet(BasicBlock, [2, 2, 2, 2], get_inplanes(), **kwargs)\n",
    "    elif model_depth == 34:\n",
    "        model = ResNet(BasicBlock, [3, 4, 6, 3], get_inplanes(), **kwargs)\n",
    "    elif model_depth == 50:\n",
    "        model = ResNet(Bottleneck, [3, 4, 6, 3], get_inplanes(), **kwargs)\n",
    "    elif model_depth == 101:\n",
    "        model = ResNet(Bottleneck, [3, 4, 23, 3], get_inplanes(), **kwargs)\n",
    "    elif model_depth == 152:\n",
    "        model = ResNet(Bottleneck, [3, 8, 36, 3], get_inplanes(), **kwargs)\n",
    "    elif model_depth == 200:\n",
    "        model = ResNet(Bottleneck, [3, 24, 36, 3], get_inplanes(), **kwargs)\n",
    "\n",
    "    return model\n",
    "class InK3DUnet(smp.UnetPlusPlus):\n",
    "    def __init__(self, **kwargs):\n",
    "        super(InK3DUnet, self).__init__(**kwargs)\n",
    "        self.encoder = generate_model(model_depth=18, n_input_channels=1)\n",
    "        self.decoder = UnetPlusPlusDecoder(encoder_channels=[1, 64, 128, 256, 512],\n",
    "                                           decoder_channels=kwargs['decoder_channels'],\n",
    "                                           n_blocks=kwargs['encoder_depth'],\n",
    "                                           use_batchnorm=True,\n",
    "                                           center=False,\n",
    "                                           attention_type=kwargs['decoder_attention_type'],\n",
    "                                        )\n",
    "        self.segmentation_head = SegmentationHead(\n",
    "            in_channels=kwargs['decoder_channels'][-1],\n",
    "            out_channels=kwargs['classes'],\n",
    "            activation=None,\n",
    "            kernel_size=3,\n",
    "            upsampling=2\n",
    "        )\n",
    "\n",
    "    \n",
    "\n",
    "    def load_pretrained_weights(self, state_dict):\n",
    "        # Convert 3 channel weights to single channel\n",
    "        # ref - https://timm.fast.ai/models#Case-1:-When-the-number-of-input-channels-is-1\n",
    "        conv1_weight = state_dict['conv1.weight']\n",
    "        state_dict['conv1.weight'] = conv1_weight.sum(dim=1, keepdim=True)\n",
    "        print(self.encoder.load_state_dict(state_dict, strict=False))"
   ]
  },
  {
   "cell_type": "code",
   "execution_count": 3,
   "metadata": {},
   "outputs": [
    {
     "name": "stdout",
     "output_type": "stream",
     "text": [
      "_IncompatibleKeys(missing_keys=[], unexpected_keys=['fc.weight', 'fc.bias'])\n"
     ]
    }
   ],
   "source": [
    "model = InK3DUnet(classes=CFG.target_size ,\n",
    "                  decoder_attention_type='scse', \n",
    "                  encoder_depth=4, \n",
    "                  decoder_channels=get_inplanes()[::-1])\n",
    "model.load_pretrained_weights(torch.load(\"result/resnet3d-seg-2d/r3d18_K_200ep.pth\")[\"state_dict\"])\n",
    "model = model.to(CFG.device)\n",
    "model_name = CFG.model_name\n",
    "i = torch.ones(2, 1, 22, 224,224).cuda()\n",
    "o = model(i)\n",
    "if CFG.pretrained:\n",
    "    try:\n",
    "        checkpoint = torch.load(CFG.checpoint, map_location=CFG.device)\n",
    "        models_dict = model.state_dict()\n",
    "        for model_part in models_dict:\n",
    "            if model_part in checkpoint:\n",
    "                models_dict[model_part] = checkpoint[model_part]\n",
    "        model.load_state_dict(models_dict)\n",
    "        print('Checkpoint loaded')\n",
    "    except:\n",
    "        print('Checkpoint not loaded')\n",
    "        pass"
   ]
  },
  {
   "cell_type": "code",
   "execution_count": 4,
   "metadata": {},
   "outputs": [],
   "source": [
    "def read_image_mask(fragment_id, tile_size):\n",
    "\n",
    "    images = []\n",
    "\n",
    "    # idxs = range(65)\n",
    "    # mid = 65 // 2\n",
    "    # start = mid - CFG.in_chans // 2\n",
    "    # end = mid + CFG.in_chans // 2\n",
    "    # idxs = range(start, end)\n",
    "    idxs = CFG.in_idx\n",
    "\n",
    "    for i in tqdm(idxs):\n",
    "        \n",
    "        image = cv2.imread(CFG.comp_dataset_path + f\"train/{fragment_id}/surface_volume/{i:02}.tif\", 0)\n",
    "\n",
    "        pad0 = (tile_size - image.shape[0] % tile_size)\n",
    "        pad1 = (tile_size - image.shape[1] % tile_size)\n",
    "\n",
    "        image = np.pad(image, [(0, pad0), (0, pad1)], constant_values=0)\n",
    "\n",
    "        images.append(image)\n",
    "    images = np.stack(images, axis=2)\n",
    "\n",
    "    mask = cv2.imread(CFG.comp_dataset_path + f\"train/{fragment_id}/inklabels.png\", 0)\n",
    "    mask = np.pad(mask, [(0, pad0), (0, pad1)], constant_values=0)\n",
    "\n",
    "    mask = mask.astype('float32')\n",
    "    mask /= 255.0\n",
    "\n",
    "    mask_location = cv2.imread(CFG.comp_dataset_path + f\"train/{fragment_id}/mask.png\", 0)\n",
    "    mask_location = np.pad(mask_location, [(0, pad0), (0, pad1)], constant_values=0)\n",
    "\n",
    "    mask_location = mask_location / 255\n",
    "    \n",
    "    return images, mask, mask_location"
   ]
  },
  {
   "cell_type": "code",
   "execution_count": 5,
   "metadata": {},
   "outputs": [],
   "source": [
    "def get_train_valid_dataset():\n",
    "    train_images = []\n",
    "    train_masks = []\n",
    "\n",
    "    valid_images = []\n",
    "    valid_masks = []\n",
    "    valid_xyxys = []\n",
    "\n",
    "    for fragment_id in range(1, 4):\n",
    "        \n",
    "        if fragment_id == 1:\n",
    "            tile_size = CFG.train_tile_size_1\n",
    "            stride = CFG.train_stride_1\n",
    "        elif fragment_id == 2:\n",
    "            tile_size = CFG.train_tile_size_2\n",
    "            stride = CFG.train_stride_2\n",
    "        else:\n",
    "            tile_size = CFG.train_tile_size_3\n",
    "            stride = CFG.train_stride_3\n",
    "\n",
    "        if fragment_id == CFG.valid_id:\n",
    "            tile_size = CFG.valid_tile_size\n",
    "            stride = CFG.valid_stride\n",
    "            \n",
    "        image, mask, mask_location = read_image_mask(fragment_id, tile_size)\n",
    "        x1_list = list(range(0, image.shape[1]-tile_size+1, stride))\n",
    "        y1_list = list(range(0, image.shape[0]-tile_size+1, stride))\n",
    "\n",
    "        for y1 in y1_list:\n",
    "            for x1 in x1_list:\n",
    "                y2 = y1 + tile_size\n",
    "                x2 = x1 + tile_size\n",
    "                if np.sum(mask_location[y1:y2, x1:x2]) == 0:\n",
    "                    continue\n",
    "        \n",
    "                if fragment_id == CFG.valid_id:\n",
    "                    if CFG.valid_id  == 2:\n",
    "                        if  y2 <4800 or y2 > 4800 + 4096 + 2048 or x2 > 640+ 4096 +2048 or x2 < 640:\n",
    "                            continue\n",
    "                    valid_images.append(image[y1:y2, x1:x2])\n",
    "                    valid_masks.append(mask[y1:y2, x1:x2, None])\n",
    "\n",
    "                    valid_xyxys.append([x1, y1, x2, y2])\n",
    "                else:\n",
    "                    train_images.append(image[y1:y2, x1:x2])\n",
    "                    train_masks.append(mask[y1:y2, x1:x2, None])\n",
    "\n",
    "    return train_images, train_masks, valid_images, valid_masks, valid_xyxys"
   ]
  },
  {
   "cell_type": "code",
   "execution_count": 6,
   "metadata": {},
   "outputs": [],
   "source": [
    "def get_transforms(data, cfg):\n",
    "    if data == 'train':\n",
    "        aug = A.Compose(cfg.train_aug_list)\n",
    "    elif data == 'valid':\n",
    "        aug = A.Compose(cfg.valid_aug_list)\n",
    "\n",
    "    # print(aug)\n",
    "    return aug\n",
    "\n",
    "class Ink_Detection_Dataset(data.Dataset):\n",
    "    def __init__(self, images, cfg, labels=None, transform=None):\n",
    "        self.images = images\n",
    "        self.cfg = cfg\n",
    "        self.labels = labels\n",
    "        self.transform = transform\n",
    "\n",
    "    def __len__(self):\n",
    "        # return len(self.df)\n",
    "        return len(self.images)\n",
    "\n",
    "    def __getitem__(self, idx):\n",
    "        image = self.images[idx]\n",
    "        label = self.labels[idx]\n",
    "\n",
    "        if self.transform:\n",
    "            data = self.transform(image=image, mask=label)\n",
    "            image = data['image'].unsqueeze(0)\n",
    "            label = data['mask']\n",
    "\n",
    "        return image, label"
   ]
  },
  {
   "cell_type": "code",
   "execution_count": 7,
   "metadata": {},
   "outputs": [
    {
     "name": "stderr",
     "output_type": "stream",
     "text": [
      "100%|██████████| 22/22 [00:08<00:00,  2.63it/s]\n",
      "100%|██████████| 22/22 [00:21<00:00,  1.04it/s]\n",
      "100%|██████████| 22/22 [00:17<00:00,  1.22it/s]\n"
     ]
    }
   ],
   "source": [
    "train_images, train_masks, valid_images, valid_masks, valid_xyxys = get_train_valid_dataset()"
   ]
  },
  {
   "cell_type": "code",
   "execution_count": 8,
   "metadata": {},
   "outputs": [],
   "source": [
    "valid_xyxys = np.stack(valid_xyxys)"
   ]
  },
  {
   "cell_type": "code",
   "execution_count": 9,
   "metadata": {},
   "outputs": [],
   "source": [
    "train_dataset = Ink_Detection_Dataset(\n",
    "    train_images, CFG, labels=train_masks, transform=get_transforms(data='train', cfg=CFG))\n",
    "valid_dataset = Ink_Detection_Dataset(\n",
    "    valid_images, CFG, labels=valid_masks, transform=get_transforms(data='valid', cfg=CFG))\n",
    "\n",
    "train_loader = data.DataLoader(train_dataset,\n",
    "                          batch_size=CFG.train_batch_size,\n",
    "                          shuffle=True,\n",
    "                          num_workers=CFG.num_workers, pin_memory=True, drop_last=True,\n",
    "                          )\n",
    "valid_loader = data.DataLoader(valid_dataset,\n",
    "                          batch_size=CFG.valid_batch_size,\n",
    "                          shuffle=False,\n",
    "                          num_workers=CFG.num_workers, pin_memory=True, drop_last=False)"
   ]
  },
  {
   "cell_type": "code",
   "execution_count": 10,
   "metadata": {},
   "outputs": [],
   "source": [
    "from warmup_scheduler import GradualWarmupScheduler\n",
    "\n",
    "\n",
    "class GradualWarmupSchedulerV2(GradualWarmupScheduler):\n",
    "    \"\"\"\n",
    "    https://www.kaggle.com/code/underwearfitting/single-fold-training-of-resnet200d-lb0-965\n",
    "    \"\"\"\n",
    "    def __init__(self, optimizer, multiplier, total_epoch, after_scheduler=None):\n",
    "        super(GradualWarmupSchedulerV2, self).__init__(\n",
    "            optimizer, multiplier, total_epoch, after_scheduler)\n",
    "\n",
    "    def get_lr(self):\n",
    "        if self.last_epoch > self.total_epoch:\n",
    "            if self.after_scheduler:\n",
    "                if not self.finished:\n",
    "                    self.after_scheduler.base_lrs = [\n",
    "                        base_lr * self.multiplier for base_lr in self.base_lrs]\n",
    "                    self.finished = True\n",
    "                return self.after_scheduler.get_lr()\n",
    "            return [base_lr * self.multiplier for base_lr in self.base_lrs]\n",
    "        if self.multiplier == 1.0:\n",
    "            return [base_lr * (float(self.last_epoch) / self.total_epoch) for base_lr in self.base_lrs]\n",
    "        else:\n",
    "            return [base_lr * ((self.multiplier - 1.) * self.last_epoch / self.total_epoch + 1.) for base_lr in self.base_lrs]\n",
    "\n",
    "def get_scheduler(cfg, optimizer):\n",
    "    scheduler_cosine = torch.optim.lr_scheduler.CosineAnnealingLR(\n",
    "        optimizer, cfg.epochs, eta_min=1e-7)\n",
    "    scheduler = GradualWarmupSchedulerV2(\n",
    "        optimizer, multiplier=10, total_epoch=1, after_scheduler=scheduler_cosine)\n",
    "\n",
    "    return scheduler\n",
    "\n",
    "def scheduler_step(scheduler, avg_val_loss, epoch):\n",
    "    scheduler.step(epoch)\n",
    "\n",
    "def dice_coef(targets, preds, thr=0.5, beta=0.5, smooth=1e-5):\n",
    "\n",
    "    #comment out if your model contains a sigmoid or equivalent activation layer\n",
    "    # flatten label and prediction tensors\n",
    "    preds = (preds > thr).view(-1).float()\n",
    "    targets = targets.view(-1).float()\n",
    "\n",
    "    y_true_count = targets.sum()\n",
    "    ctp = preds[targets==1].sum()\n",
    "    cfp = preds[targets==0].sum()\n",
    "    beta_squared = beta * beta\n",
    "\n",
    "    c_precision = ctp / (ctp + cfp + smooth)\n",
    "    c_recall = ctp / (y_true_count + smooth)\n",
    "    dice = (1 + beta_squared) * (c_precision * c_recall) / (beta_squared * c_precision + c_recall + smooth)\n",
    "\n",
    "    return dice"
   ]
  },
  {
   "cell_type": "code",
   "execution_count": 11,
   "metadata": {},
   "outputs": [],
   "source": [
    "def train_step(train_loader, model, criterion, optimizer, writer, device, epoch):\n",
    "    model.train()\n",
    "    epoch_loss = 0\n",
    "    scaler = GradScaler(enabled=CFG.use_amp)\n",
    "    bar = tqdm(enumerate(train_loader), total=len(train_loader)) \n",
    "    for step, (image, label) in bar:\n",
    "        optimizer.zero_grad()\n",
    "        outputs = model(image.to(device))\n",
    "        loss = criterion(outputs, label.to(device))\n",
    "        scaler.scale(loss).backward()\n",
    "        torch.nn.utils.clip_grad_norm_(model.parameters(), CFG.max_grad_norm)\n",
    "        scaler.step(optimizer)\n",
    "        scaler.update()\n",
    "        mem = torch.cuda.memory_reserved() / 1E9 if torch.cuda.is_available() else 0\n",
    "        bar.set_postfix(loss=f'{loss.item():0.4f}', epoch=epoch ,gpu_mem=f'{mem:0.2f} GB', lr=f'{optimizer.state_dict()[\"param_groups\"][0][\"lr\"]:0.2e}')\n",
    "        epoch_loss += loss.item()\n",
    "    writer.add_scalar('Train/Loss', epoch_loss / len(train_loader), epoch)\n",
    "    return epoch_loss / len(train_loader)\n",
    "\n",
    "def valid_step(valid_loader, model, valid_xyxys, valid_mask , criterion, device, writer, epoch):\n",
    "    model.eval()\n",
    "    mask_pred = np.zeros(valid_mask.shape)\n",
    "    mask_count = (1 - valid_mask).astype(np.float64)\n",
    "    valid_mask_gt = np.zeros(valid_mask.shape)\n",
    "\n",
    "    epoch_loss = 0\n",
    "    dice_scores = {}\n",
    "    for th in np.arange(1, 6, 0.5) / 10:\n",
    "        dice_scores[th] = []\n",
    "\n",
    "    bar = tqdm(enumerate(valid_loader), total=len(valid_loader)) \n",
    "    for step, (image, label) in bar:\n",
    "        image = image.to(device)\n",
    "        label = label.to(device)\n",
    "        with torch.no_grad():\n",
    "            y_pred = model(image)\n",
    "            loss = criterion(y_pred, label)\n",
    "        mem = torch.cuda.memory_reserved() / 1E9 if torch.cuda.is_available() else 0\n",
    "        bar.set_postfix(loss=f'{loss.item():0.4f}', epoch=epoch ,gpu_mem=f'{mem:0.2f} GB')\n",
    "        # make whole mask\n",
    "        y_pred = torch.sigmoid(y_pred).to('cpu').numpy()\n",
    "        label = label.to('cpu').numpy()\n",
    "        start_idx = step*CFG.valid_batch_size\n",
    "        end_idx = start_idx + CFG.valid_batch_size\n",
    "        for i, (x1, y1, x2, y2) in enumerate(valid_xyxys[start_idx:end_idx]):\n",
    "            mask_pred[y1:y2, x1:x2] += y_pred[i].squeeze(0)\n",
    "            valid_mask_gt[y1:y2, x1:x2] = label[i].squeeze(0)\n",
    "            mask_count[y1:y2, x1:x2] += np.ones((CFG.valid_tile_size, CFG.valid_tile_size))\n",
    "        epoch_loss += loss.item()\n",
    "    avg_loss = epoch_loss / len(valid_loader)\n",
    "    writer.add_scalar('Valid/Loss', avg_loss, epoch)\n",
    "    best_th = 0\n",
    "    best_dice = 0\n",
    "    print(f'mask_count_min: {mask_count.min()}')\n",
    "    mask_pred /= mask_count\n",
    "    mask_pred *= valid_mask\n",
    "    has_nan = np.isnan(mask_pred).any()\n",
    "    print(has_nan)\n",
    "    if CFG.valid_id == 2:\n",
    "        # 防止内存溢出if  y2 <4800 or y2 > 4800 + 4096 + 2048 or x2 > 640+ 4096 +2048 or x2 < 640:\n",
    "        valid_mask_gt = valid_mask_gt[4800:4800+4096+2048, 640:640+4096+2048]\n",
    "        mask_pred = mask_pred[4800:4800+4096+2048, 640:640+4096+2048]\n",
    "        valid_mask = valid_mask[4800:4800+4096+2048, 640:640+4096+2048]\n",
    "    for th in np.arange(1, 6, 0.5) / 10:\n",
    "        dice_score = dice_coef(torch.from_numpy(valid_mask_gt).to(CFG.device), torch.from_numpy(mask_pred).to(CFG.device), thr=th).item()\n",
    "        dice_scores[th].append(dice_score)\n",
    "    for th in np.arange(1, 6, 0.5) / 10:\n",
    "        dice_score = sum(dice_scores[th]) / len(dice_scores[th])\n",
    "        if dice_score > best_dice:\n",
    "            best_dice = dice_score\n",
    "            best_th = th\n",
    "    # # 使用make_grid将图片转换成网格形式\n",
    "    # pred_mask = make_grid((torch.from_numpy(mask_pred) > best_th).float().to(CFG.device), normalize=True)\n",
    "    # true_mask = make_grid(torch.from_numpy(valid_mask_gt).to(CFG.device), normalize=True)\n",
    "    # # 使用add_image方法将图片添加到TensorBoard中\n",
    "    # writer.add_image('Valid/True_mask', true_mask, global_step=epoch, dataformats=\"CHW\")\n",
    "    # writer.add_image('Valid/Pred_mask', pred_mask, global_step=epoch, dataformats=\"CHW\")\n",
    "    mask_pred = (mask_pred >= best_th).astype(int)\n",
    "    cv2.imwrite(f'result/logs/{epoch}.png', mask_pred * 255)\n",
    "    cv2.imwrite(f'result/logs/gt.png', valid_mask_gt * 255)\n",
    "    if CFG.all_best_dice < best_dice:\n",
    "        print('best_th={:2f}' .format(best_th),\"score up: {:2f}->{:2f}\".format(CFG.all_best_dice, best_dice))       \n",
    "        CFG.all_best_dice = best_dice\n",
    "    torch.save(model.state_dict(), 'result/' +  '{}-DIM-{}-[eval_loss]-{:.4f}-[dice_score]-{:.2f}-'.format(CFG.model_name, CFG.in_chans , avg_loss, best_dice) + str(epoch) + '-epoch.pkl')  \n",
    "    writer.add_scalar('Valid/Dice', best_dice, epoch)\n",
    "    \n",
    "    return avg_loss\n",
    "    "
   ]
  },
  {
   "cell_type": "code",
   "execution_count": 12,
   "metadata": {},
   "outputs": [],
   "source": [
    "fragment_id = CFG.valid_id\n",
    "valid_mask = cv2.imread(CFG.comp_dataset_path + f\"train/{fragment_id}/mask.png\", 0)\n",
    "valid_mask = valid_mask.astype('float32') / 255.\n",
    "pad0 = (CFG.valid_tile_size - valid_mask.shape[0] % CFG.valid_tile_size)\n",
    "pad1 = (CFG.valid_tile_size - valid_mask.shape[1] % CFG.valid_tile_size)\n",
    "valid_mask = np.pad(valid_mask, [(0, pad0), (0, pad1)], constant_values=0)"
   ]
  },
  {
   "cell_type": "code",
   "execution_count": 13,
   "metadata": {},
   "outputs": [
    {
     "name": "stdout",
     "output_type": "stream",
     "text": [
      "train:\n"
     ]
    },
    {
     "name": "stderr",
     "output_type": "stream",
     "text": [
      "100%|██████████| 2349/2349 [40:15<00:00,  1.03s/it, epoch=1, gpu_mem=7.82 GB, loss=0.6760, lr=5.00e-06]"
     ]
    },
    {
     "name": "stdout",
     "output_type": "stream",
     "text": [
      "val:\n"
     ]
    },
    {
     "name": "stderr",
     "output_type": "stream",
     "text": [
      "\n",
      "100%|██████████| 278/278 [01:01<00:00,  4.51it/s, epoch=1, gpu_mem=7.82 GB, loss=0.1014]\n"
     ]
    },
    {
     "name": "stdout",
     "output_type": "stream",
     "text": [
      "mask_count_min: 1.0\n",
      "False\n",
      "best_th=0.400000 score up: 0.000000->0.415600\n",
      "train:\n"
     ]
    },
    {
     "name": "stderr",
     "output_type": "stream",
     "text": [
      "100%|██████████| 2349/2349 [40:32<00:00,  1.04s/it, epoch=2, gpu_mem=7.82 GB, loss=0.2137, lr=5.00e-05]"
     ]
    },
    {
     "name": "stdout",
     "output_type": "stream",
     "text": [
      "val:\n"
     ]
    },
    {
     "name": "stderr",
     "output_type": "stream",
     "text": [
      "\n",
      "100%|██████████| 278/278 [01:01<00:00,  4.51it/s, epoch=2, gpu_mem=7.82 GB, loss=0.0384]\n"
     ]
    },
    {
     "name": "stdout",
     "output_type": "stream",
     "text": [
      "mask_count_min: 1.0\n",
      "False\n",
      "best_th=0.350000 score up: 0.415600->0.550234\n",
      "train:\n"
     ]
    },
    {
     "name": "stderr",
     "output_type": "stream",
     "text": [
      "100%|██████████| 2349/2349 [40:29<00:00,  1.03s/it, epoch=3, gpu_mem=7.82 GB, loss=0.1940, lr=5.00e-05]"
     ]
    },
    {
     "name": "stdout",
     "output_type": "stream",
     "text": [
      "val:\n"
     ]
    },
    {
     "name": "stderr",
     "output_type": "stream",
     "text": [
      "\n",
      "100%|██████████| 278/278 [01:01<00:00,  4.53it/s, epoch=3, gpu_mem=7.82 GB, loss=0.0433]\n"
     ]
    },
    {
     "name": "stdout",
     "output_type": "stream",
     "text": [
      "mask_count_min: 1.0\n",
      "False\n",
      "best_th=0.550000 score up: 0.550234->0.582261\n",
      "train:\n"
     ]
    },
    {
     "name": "stderr",
     "output_type": "stream",
     "text": [
      "100%|██████████| 2349/2349 [40:24<00:00,  1.03s/it, epoch=4, gpu_mem=7.82 GB, loss=0.4489, lr=4.95e-05]"
     ]
    },
    {
     "name": "stdout",
     "output_type": "stream",
     "text": [
      "val:\n"
     ]
    },
    {
     "name": "stderr",
     "output_type": "stream",
     "text": [
      "\n",
      "100%|██████████| 278/278 [01:01<00:00,  4.53it/s, epoch=4, gpu_mem=7.82 GB, loss=0.0378]\n"
     ]
    },
    {
     "name": "stdout",
     "output_type": "stream",
     "text": [
      "mask_count_min: 1.0\n",
      "False\n",
      "best_th=0.450000 score up: 0.582261->0.600578\n",
      "train:\n"
     ]
    },
    {
     "name": "stderr",
     "output_type": "stream",
     "text": [
      "100%|██████████| 2349/2349 [40:24<00:00,  1.03s/it, epoch=5, gpu_mem=7.82 GB, loss=0.3396, lr=4.88e-05]"
     ]
    },
    {
     "name": "stdout",
     "output_type": "stream",
     "text": [
      "val:\n"
     ]
    },
    {
     "name": "stderr",
     "output_type": "stream",
     "text": [
      "\n",
      "100%|██████████| 278/278 [01:01<00:00,  4.51it/s, epoch=5, gpu_mem=7.82 GB, loss=0.0211]\n"
     ]
    },
    {
     "name": "stdout",
     "output_type": "stream",
     "text": [
      "mask_count_min: 1.0\n",
      "False\n",
      "best_th=0.450000 score up: 0.600578->0.629409\n",
      "train:\n"
     ]
    },
    {
     "name": "stderr",
     "output_type": "stream",
     "text": [
      "100%|██████████| 2349/2349 [40:22<00:00,  1.03s/it, epoch=6, gpu_mem=7.82 GB, loss=0.2779, lr=4.78e-05]"
     ]
    },
    {
     "name": "stdout",
     "output_type": "stream",
     "text": [
      "val:\n"
     ]
    },
    {
     "name": "stderr",
     "output_type": "stream",
     "text": [
      "\n",
      "100%|██████████| 278/278 [01:01<00:00,  4.52it/s, epoch=6, gpu_mem=7.82 GB, loss=0.0921]\n"
     ]
    },
    {
     "name": "stdout",
     "output_type": "stream",
     "text": [
      "mask_count_min: 1.0\n",
      "False\n",
      "best_th=0.500000 score up: 0.629409->0.631774\n",
      "train:\n"
     ]
    },
    {
     "name": "stderr",
     "output_type": "stream",
     "text": [
      "100%|██████████| 2349/2349 [40:25<00:00,  1.03s/it, epoch=7, gpu_mem=7.82 GB, loss=0.4384, lr=4.67e-05]"
     ]
    },
    {
     "name": "stdout",
     "output_type": "stream",
     "text": [
      "val:\n"
     ]
    },
    {
     "name": "stderr",
     "output_type": "stream",
     "text": [
      "\n",
      "100%|██████████| 278/278 [01:02<00:00,  4.48it/s, epoch=7, gpu_mem=7.82 GB, loss=0.0251]\n"
     ]
    },
    {
     "name": "stdout",
     "output_type": "stream",
     "text": [
      "mask_count_min: 1.0\n",
      "False\n",
      "train:\n"
     ]
    },
    {
     "name": "stderr",
     "output_type": "stream",
     "text": [
      "100%|██████████| 2349/2349 [40:22<00:00,  1.03s/it, epoch=8, gpu_mem=7.82 GB, loss=0.2128, lr=4.52e-05]"
     ]
    },
    {
     "name": "stdout",
     "output_type": "stream",
     "text": [
      "val:\n"
     ]
    },
    {
     "name": "stderr",
     "output_type": "stream",
     "text": [
      "\n",
      "100%|██████████| 278/278 [01:02<00:00,  4.47it/s, epoch=8, gpu_mem=7.82 GB, loss=0.0284]\n"
     ]
    },
    {
     "name": "stdout",
     "output_type": "stream",
     "text": [
      "mask_count_min: 1.0\n",
      "False\n",
      "train:\n"
     ]
    },
    {
     "name": "stderr",
     "output_type": "stream",
     "text": [
      "100%|██████████| 2349/2349 [40:19<00:00,  1.03s/it, epoch=9, gpu_mem=7.82 GB, loss=0.1317, lr=4.36e-05]"
     ]
    },
    {
     "name": "stdout",
     "output_type": "stream",
     "text": [
      "val:\n"
     ]
    },
    {
     "name": "stderr",
     "output_type": "stream",
     "text": [
      "\n",
      "100%|██████████| 278/278 [01:01<00:00,  4.54it/s, epoch=9, gpu_mem=7.82 GB, loss=0.0531]\n"
     ]
    },
    {
     "name": "stdout",
     "output_type": "stream",
     "text": [
      "mask_count_min: 1.0\n",
      "False\n",
      "train:\n"
     ]
    },
    {
     "name": "stderr",
     "output_type": "stream",
     "text": [
      "100%|██████████| 2349/2349 [40:26<00:00,  1.03s/it, epoch=10, gpu_mem=7.82 GB, loss=0.2138, lr=4.17e-05]"
     ]
    },
    {
     "name": "stdout",
     "output_type": "stream",
     "text": [
      "val:\n"
     ]
    },
    {
     "name": "stderr",
     "output_type": "stream",
     "text": [
      "\n",
      "100%|██████████| 278/278 [01:01<00:00,  4.55it/s, epoch=10, gpu_mem=7.82 GB, loss=0.0588]\n"
     ]
    },
    {
     "name": "stdout",
     "output_type": "stream",
     "text": [
      "mask_count_min: 1.0\n",
      "False\n",
      "train:\n"
     ]
    },
    {
     "name": "stderr",
     "output_type": "stream",
     "text": [
      "100%|██████████| 2349/2349 [40:28<00:00,  1.03s/it, epoch=11, gpu_mem=7.82 GB, loss=0.2333, lr=3.97e-05]"
     ]
    },
    {
     "name": "stdout",
     "output_type": "stream",
     "text": [
      "val:\n"
     ]
    },
    {
     "name": "stderr",
     "output_type": "stream",
     "text": [
      "\n",
      "100%|██████████| 278/278 [01:01<00:00,  4.51it/s, epoch=11, gpu_mem=7.82 GB, loss=0.0489]\n"
     ]
    },
    {
     "name": "stdout",
     "output_type": "stream",
     "text": [
      "mask_count_min: 1.0\n",
      "False\n",
      "train:\n"
     ]
    },
    {
     "name": "stderr",
     "output_type": "stream",
     "text": [
      "100%|██████████| 2349/2349 [40:32<00:00,  1.04s/it, epoch=12, gpu_mem=7.82 GB, loss=0.1926, lr=3.75e-05]"
     ]
    },
    {
     "name": "stdout",
     "output_type": "stream",
     "text": [
      "val:\n"
     ]
    },
    {
     "name": "stderr",
     "output_type": "stream",
     "text": [
      "\n",
      "100%|██████████| 278/278 [00:59<00:00,  4.69it/s, epoch=12, gpu_mem=7.82 GB, loss=0.0211]\n"
     ]
    },
    {
     "name": "stdout",
     "output_type": "stream",
     "text": [
      "mask_count_min: 1.0\n",
      "False\n",
      "best_th=0.500000 score up: 0.631774->0.640455\n",
      "train:\n"
     ]
    },
    {
     "name": "stderr",
     "output_type": "stream",
     "text": [
      "100%|██████████| 2349/2349 [39:44<00:00,  1.01s/it, epoch=13, gpu_mem=7.82 GB, loss=0.2217, lr=3.52e-05]"
     ]
    },
    {
     "name": "stdout",
     "output_type": "stream",
     "text": [
      "val:\n"
     ]
    },
    {
     "name": "stderr",
     "output_type": "stream",
     "text": [
      "\n",
      "100%|██████████| 278/278 [01:01<00:00,  4.51it/s, epoch=13, gpu_mem=7.82 GB, loss=0.0210]\n"
     ]
    },
    {
     "name": "stdout",
     "output_type": "stream",
     "text": [
      "mask_count_min: 1.0\n",
      "False\n",
      "train:\n"
     ]
    },
    {
     "name": "stderr",
     "output_type": "stream",
     "text": [
      "100%|██████████| 2349/2349 [40:26<00:00,  1.03s/it, epoch=14, gpu_mem=7.82 GB, loss=0.1275, lr=3.28e-05]"
     ]
    },
    {
     "name": "stdout",
     "output_type": "stream",
     "text": [
      "val:\n"
     ]
    },
    {
     "name": "stderr",
     "output_type": "stream",
     "text": [
      "\n",
      "100%|██████████| 278/278 [01:01<00:00,  4.54it/s, epoch=14, gpu_mem=7.82 GB, loss=0.0206]\n"
     ]
    },
    {
     "name": "stdout",
     "output_type": "stream",
     "text": [
      "mask_count_min: 1.0\n",
      "False\n",
      "train:\n"
     ]
    },
    {
     "name": "stderr",
     "output_type": "stream",
     "text": [
      "100%|██████████| 2349/2349 [40:22<00:00,  1.03s/it, epoch=15, gpu_mem=7.82 GB, loss=0.1642, lr=3.02e-05]"
     ]
    },
    {
     "name": "stdout",
     "output_type": "stream",
     "text": [
      "val:\n"
     ]
    },
    {
     "name": "stderr",
     "output_type": "stream",
     "text": [
      "\n",
      "100%|██████████| 278/278 [01:01<00:00,  4.54it/s, epoch=15, gpu_mem=7.82 GB, loss=0.0138]\n"
     ]
    },
    {
     "name": "stdout",
     "output_type": "stream",
     "text": [
      "mask_count_min: 1.0\n",
      "False\n",
      "best_th=0.500000 score up: 0.640455->0.654135\n",
      "train:\n"
     ]
    },
    {
     "name": "stderr",
     "output_type": "stream",
     "text": [
      "100%|██████████| 2349/2349 [40:24<00:00,  1.03s/it, epoch=16, gpu_mem=7.82 GB, loss=0.1087, lr=2.77e-05]"
     ]
    },
    {
     "name": "stdout",
     "output_type": "stream",
     "text": [
      "val:\n"
     ]
    },
    {
     "name": "stderr",
     "output_type": "stream",
     "text": [
      "\n",
      "100%|██████████| 278/278 [01:02<00:00,  4.42it/s, epoch=16, gpu_mem=7.82 GB, loss=0.0193]\n"
     ]
    },
    {
     "name": "stdout",
     "output_type": "stream",
     "text": [
      "mask_count_min: 1.0\n",
      "False\n",
      "train:\n"
     ]
    },
    {
     "name": "stderr",
     "output_type": "stream",
     "text": [
      "100%|██████████| 2349/2349 [40:32<00:00,  1.04s/it, epoch=17, gpu_mem=7.82 GB, loss=0.2300, lr=2.51e-05]\n"
     ]
    },
    {
     "name": "stdout",
     "output_type": "stream",
     "text": [
      "val:\n"
     ]
    },
    {
     "name": "stderr",
     "output_type": "stream",
     "text": [
      "100%|██████████| 278/278 [01:01<00:00,  4.52it/s, epoch=17, gpu_mem=7.82 GB, loss=0.0402]\n"
     ]
    },
    {
     "name": "stdout",
     "output_type": "stream",
     "text": [
      "mask_count_min: 1.0\n",
      "False\n",
      "train:\n"
     ]
    },
    {
     "name": "stderr",
     "output_type": "stream",
     "text": [
      "100%|██████████| 2349/2349 [40:12<00:00,  1.03s/it, epoch=18, gpu_mem=7.82 GB, loss=0.2059, lr=2.24e-05]"
     ]
    },
    {
     "name": "stdout",
     "output_type": "stream",
     "text": [
      "val:\n"
     ]
    },
    {
     "name": "stderr",
     "output_type": "stream",
     "text": [
      "\n",
      "100%|██████████| 278/278 [01:01<00:00,  4.51it/s, epoch=18, gpu_mem=7.82 GB, loss=0.0512]\n"
     ]
    },
    {
     "name": "stdout",
     "output_type": "stream",
     "text": [
      "mask_count_min: 1.0\n",
      "False\n",
      "train:\n"
     ]
    },
    {
     "name": "stderr",
     "output_type": "stream",
     "text": [
      "100%|██████████| 2349/2349 [40:35<00:00,  1.04s/it, epoch=19, gpu_mem=7.82 GB, loss=0.2027, lr=1.99e-05]"
     ]
    },
    {
     "name": "stdout",
     "output_type": "stream",
     "text": [
      "val:\n"
     ]
    },
    {
     "name": "stderr",
     "output_type": "stream",
     "text": [
      "\n",
      "100%|██████████| 278/278 [01:01<00:00,  4.53it/s, epoch=19, gpu_mem=7.82 GB, loss=0.0402]\n"
     ]
    },
    {
     "name": "stdout",
     "output_type": "stream",
     "text": [
      "mask_count_min: 1.0\n",
      "False\n",
      "train:\n"
     ]
    },
    {
     "name": "stderr",
     "output_type": "stream",
     "text": [
      "100%|██████████| 2349/2349 [40:42<00:00,  1.04s/it, epoch=20, gpu_mem=7.82 GB, loss=0.2749, lr=1.73e-05]"
     ]
    },
    {
     "name": "stdout",
     "output_type": "stream",
     "text": [
      "val:\n"
     ]
    },
    {
     "name": "stderr",
     "output_type": "stream",
     "text": [
      "\n",
      "100%|██████████| 278/278 [01:01<00:00,  4.53it/s, epoch=20, gpu_mem=7.82 GB, loss=0.0261]\n"
     ]
    },
    {
     "name": "stdout",
     "output_type": "stream",
     "text": [
      "mask_count_min: 1.0\n",
      "False\n",
      "train:\n"
     ]
    },
    {
     "name": "stderr",
     "output_type": "stream",
     "text": [
      "100%|██████████| 2349/2349 [40:44<00:00,  1.04s/it, epoch=21, gpu_mem=7.82 GB, loss=0.1687, lr=1.49e-05]"
     ]
    },
    {
     "name": "stdout",
     "output_type": "stream",
     "text": [
      "val:\n"
     ]
    },
    {
     "name": "stderr",
     "output_type": "stream",
     "text": [
      "\n",
      "100%|██████████| 278/278 [01:02<00:00,  4.48it/s, epoch=21, gpu_mem=7.82 GB, loss=0.0410]\n"
     ]
    },
    {
     "name": "stdout",
     "output_type": "stream",
     "text": [
      "mask_count_min: 1.0\n",
      "False\n",
      "train:\n"
     ]
    },
    {
     "name": "stderr",
     "output_type": "stream",
     "text": [
      "100%|██████████| 2349/2349 [40:44<00:00,  1.04s/it, epoch=22, gpu_mem=7.82 GB, loss=0.1843, lr=1.26e-05]"
     ]
    },
    {
     "name": "stdout",
     "output_type": "stream",
     "text": [
      "val:\n"
     ]
    },
    {
     "name": "stderr",
     "output_type": "stream",
     "text": [
      "\n",
      "100%|██████████| 278/278 [01:01<00:00,  4.49it/s, epoch=22, gpu_mem=7.82 GB, loss=0.0402]\n"
     ]
    },
    {
     "name": "stdout",
     "output_type": "stream",
     "text": [
      "mask_count_min: 1.0\n",
      "False\n",
      "train:\n"
     ]
    },
    {
     "name": "stderr",
     "output_type": "stream",
     "text": [
      "100%|██████████| 2349/2349 [40:45<00:00,  1.04s/it, epoch=23, gpu_mem=7.82 GB, loss=0.1906, lr=1.04e-05]"
     ]
    },
    {
     "name": "stdout",
     "output_type": "stream",
     "text": [
      "val:\n"
     ]
    },
    {
     "name": "stderr",
     "output_type": "stream",
     "text": [
      "\n",
      "100%|██████████| 278/278 [01:01<00:00,  4.48it/s, epoch=23, gpu_mem=7.82 GB, loss=0.0751]\n"
     ]
    },
    {
     "name": "stdout",
     "output_type": "stream",
     "text": [
      "mask_count_min: 1.0\n",
      "False\n",
      "train:\n"
     ]
    },
    {
     "name": "stderr",
     "output_type": "stream",
     "text": [
      "100%|██████████| 2349/2349 [40:45<00:00,  1.04s/it, epoch=24, gpu_mem=7.82 GB, loss=0.1064, lr=8.36e-06]"
     ]
    },
    {
     "name": "stdout",
     "output_type": "stream",
     "text": [
      "val:\n"
     ]
    },
    {
     "name": "stderr",
     "output_type": "stream",
     "text": [
      "\n",
      "100%|██████████| 278/278 [01:02<00:00,  4.47it/s, epoch=24, gpu_mem=7.82 GB, loss=0.0505]\n"
     ]
    },
    {
     "name": "stdout",
     "output_type": "stream",
     "text": [
      "mask_count_min: 1.0\n",
      "False\n",
      "train:\n"
     ]
    },
    {
     "name": "stderr",
     "output_type": "stream",
     "text": [
      "100%|██████████| 2349/2349 [40:46<00:00,  1.04s/it, epoch=25, gpu_mem=7.82 GB, loss=0.1686, lr=6.51e-06]"
     ]
    },
    {
     "name": "stdout",
     "output_type": "stream",
     "text": [
      "val:\n"
     ]
    },
    {
     "name": "stderr",
     "output_type": "stream",
     "text": [
      "\n",
      "100%|██████████| 278/278 [01:01<00:00,  4.50it/s, epoch=25, gpu_mem=7.82 GB, loss=0.0492]\n"
     ]
    },
    {
     "name": "stdout",
     "output_type": "stream",
     "text": [
      "mask_count_min: 1.0\n",
      "False\n",
      "train:\n"
     ]
    },
    {
     "name": "stderr",
     "output_type": "stream",
     "text": [
      "100%|██████████| 2349/2349 [40:52<00:00,  1.04s/it, epoch=26, gpu_mem=7.82 GB, loss=0.1296, lr=4.87e-06]"
     ]
    },
    {
     "name": "stdout",
     "output_type": "stream",
     "text": [
      "val:\n"
     ]
    },
    {
     "name": "stderr",
     "output_type": "stream",
     "text": [
      "\n",
      "100%|██████████| 278/278 [01:01<00:00,  4.52it/s, epoch=26, gpu_mem=7.82 GB, loss=0.0335]\n"
     ]
    },
    {
     "name": "stdout",
     "output_type": "stream",
     "text": [
      "mask_count_min: 1.0\n",
      "False\n",
      "train:\n"
     ]
    },
    {
     "name": "stderr",
     "output_type": "stream",
     "text": [
      "100%|██████████| 2349/2349 [40:45<00:00,  1.04s/it, epoch=27, gpu_mem=7.82 GB, loss=0.2353, lr=3.44e-06]"
     ]
    },
    {
     "name": "stdout",
     "output_type": "stream",
     "text": [
      "val:\n"
     ]
    },
    {
     "name": "stderr",
     "output_type": "stream",
     "text": [
      "\n",
      "100%|██████████| 278/278 [01:01<00:00,  4.53it/s, epoch=27, gpu_mem=7.82 GB, loss=0.0475]\n"
     ]
    },
    {
     "name": "stdout",
     "output_type": "stream",
     "text": [
      "mask_count_min: 1.0\n",
      "False\n",
      "train:\n"
     ]
    },
    {
     "name": "stderr",
     "output_type": "stream",
     "text": [
      "100%|██████████| 2349/2349 [40:45<00:00,  1.04s/it, epoch=28, gpu_mem=7.82 GB, loss=0.0739, lr=2.26e-06]"
     ]
    },
    {
     "name": "stdout",
     "output_type": "stream",
     "text": [
      "val:\n"
     ]
    },
    {
     "name": "stderr",
     "output_type": "stream",
     "text": [
      "\n",
      "100%|██████████| 278/278 [01:01<00:00,  4.53it/s, epoch=28, gpu_mem=7.82 GB, loss=0.0587]\n"
     ]
    },
    {
     "name": "stdout",
     "output_type": "stream",
     "text": [
      "mask_count_min: 1.0\n",
      "False\n",
      "train:\n"
     ]
    },
    {
     "name": "stderr",
     "output_type": "stream",
     "text": [
      "100%|██████████| 2349/2349 [40:41<00:00,  1.04s/it, epoch=29, gpu_mem=7.82 GB, loss=0.1039, lr=1.32e-06]"
     ]
    },
    {
     "name": "stdout",
     "output_type": "stream",
     "text": [
      "val:\n"
     ]
    },
    {
     "name": "stderr",
     "output_type": "stream",
     "text": [
      "\n",
      "100%|██████████| 278/278 [01:01<00:00,  4.53it/s, epoch=29, gpu_mem=7.82 GB, loss=0.0565]\n"
     ]
    },
    {
     "name": "stdout",
     "output_type": "stream",
     "text": [
      "mask_count_min: 1.0\n",
      "False\n",
      "train:\n"
     ]
    },
    {
     "name": "stderr",
     "output_type": "stream",
     "text": [
      "100%|██████████| 2349/2349 [40:37<00:00,  1.04s/it, epoch=30, gpu_mem=7.82 GB, loss=0.0592, lr=6.45e-07]"
     ]
    },
    {
     "name": "stdout",
     "output_type": "stream",
     "text": [
      "val:\n"
     ]
    },
    {
     "name": "stderr",
     "output_type": "stream",
     "text": [
      "\n",
      "100%|██████████| 278/278 [01:01<00:00,  4.53it/s, epoch=30, gpu_mem=7.82 GB, loss=0.0589]\n"
     ]
    },
    {
     "name": "stdout",
     "output_type": "stream",
     "text": [
      "mask_count_min: 1.0\n",
      "False\n"
     ]
    }
   ],
   "source": [
    "criterion = nn.BCEWithLogitsLoss()\n",
    "optimizer = optim.AdamW(model.parameters(),\n",
    "                        lr=CFG.lr,\n",
    "                        betas=(0.9, 0.999),\n",
    "                        weight_decay=CFG.weight_decay\n",
    "                        )\n",
    "scheduler = get_scheduler(CFG, optimizer)\n",
    "writer = SummaryWriter('result/logs')\n",
    "\n",
    "for i in range(CFG.epochs):\n",
    "    print('train:')\n",
    "    train_step(train_loader, model, criterion, optimizer, writer, CFG.device, i + 1)\n",
    "    print('val:')\n",
    "    val_loss = valid_step(valid_loader, model, valid_xyxys, valid_mask, criterion, CFG.device, writer,  i + 1)\n",
    "    scheduler_step(scheduler, val_loss, i + 1)\n",
    "    import gc\n",
    "    gc.collect()"
   ]
  }
 ],
 "metadata": {
  "kernelspec": {
   "display_name": "dtt",
   "language": "python",
   "name": "python3"
  },
  "language_info": {
   "codemirror_mode": {
    "name": "ipython",
    "version": 3
   },
   "file_extension": ".py",
   "mimetype": "text/x-python",
   "name": "python",
   "nbconvert_exporter": "python",
   "pygments_lexer": "ipython3",
   "version": "3.9.16"
  },
  "orig_nbformat": 4,
  "vscode": {
   "interpreter": {
    "hash": "61166640a95ac08c4dfcc44984648f9045f44ea39ff0c31cc75bc4fde1586daf"
   }
  }
 },
 "nbformat": 4,
 "nbformat_minor": 2
}
