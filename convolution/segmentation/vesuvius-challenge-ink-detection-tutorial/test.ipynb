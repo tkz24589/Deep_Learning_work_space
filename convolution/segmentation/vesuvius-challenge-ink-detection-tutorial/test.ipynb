{
 "cells": [
  {
   "cell_type": "code",
   "execution_count": 2,
   "metadata": {},
   "outputs": [
    {
     "data": {
      "text/plain": [
       "16"
      ]
     },
     "execution_count": 2,
     "metadata": {},
     "output_type": "execute_result"
    }
   ],
   "source": [
    "import segmentation_models_pytorch as smp\n",
    "output_stride = smp.UnetPlusPlus(classes=1,\n",
    "                  decoder_attention_type='scse', \n",
    "                  encoder_depth=4, \n",
    "                  decoder_channels=[512, 256, 128, 64]).encoder.output_stride\n",
    "output_stride"
   ]
  }
 ],
 "metadata": {
  "kernelspec": {
   "display_name": "dtt",
   "language": "python",
   "name": "python3"
  },
  "language_info": {
   "codemirror_mode": {
    "name": "ipython",
    "version": 3
   },
   "file_extension": ".py",
   "mimetype": "text/x-python",
   "name": "python",
   "nbconvert_exporter": "python",
   "pygments_lexer": "ipython3",
   "version": "3.9.16"
  },
  "orig_nbformat": 4,
  "vscode": {
   "interpreter": {
    "hash": "61166640a95ac08c4dfcc44984648f9045f44ea39ff0c31cc75bc4fde1586daf"
   }
  }
 },
 "nbformat": 4,
 "nbformat_minor": 2
}
